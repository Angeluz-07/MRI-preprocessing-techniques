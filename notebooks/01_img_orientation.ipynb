{
 "cells": [
  {
   "cell_type": "markdown",
   "metadata": {},
   "source": [
    "### Image Orientation"
   ]
  },
  {
   "cell_type": "markdown",
   "metadata": {},
   "source": [
    "**Learning outcomes:**\n",
    "- Load .nii.gz/.nii images using AntsPy and SITK using different orientations"
   ]
  },
  {
   "cell_type": "code",
   "execution_count": null,
   "metadata": {},
   "outputs": [],
   "source": [
    "%matplotlib inline\n",
    "\n",
    "import os\n",
    "from helpers import *\n",
    "\n",
    "import ants\n",
    "import SimpleITK as sitk\n",
    "\n",
    "print(f'AntsPy version = {ants.__version__}')\n",
    "print(f'SimpleITK version = {sitk.__version__}')"
   ]
  },
  {
   "cell_type": "code",
   "execution_count": null,
   "metadata": {},
   "outputs": [],
   "source": [
    "BASE_DIR = os.path.dirname(os.path.dirname(os.path.abspath(\"__file__\")))\n",
    "print(f'project folder = {BASE_DIR}')"
   ]
  },
  {
   "cell_type": "code",
   "execution_count": null,
   "metadata": {},
   "outputs": [],
   "source": [
    "raw_examples = [\n",
    "    'fsl-open-dev_sub-001_T1w.nii.gz',\n",
    "    'wash-120_sub-001_T1w.nii.gz',\n",
    "    'kf-panda_sub-01_ses-3T_T1w.nii.gz',\n",
    "    'listen-task_sub-UTS01_ses-1_T1w.nii.gz'\n",
    "]"
   ]
  },
  {
   "cell_type": "markdown",
   "metadata": {},
   "source": [
    "### AntsPy"
   ]
  },
  {
   "cell_type": "code",
   "execution_count": null,
   "metadata": {},
   "outputs": [],
   "source": [
    "raw_img_path = os.path.join(BASE_DIR, 'assets', 'raw_examples', raw_examples[0])"
   ]
  },
  {
   "cell_type": "code",
   "execution_count": null,
   "metadata": {},
   "outputs": [],
   "source": [
    "raw_img_ants = ants.image_read(raw_img_path) \n",
    "print(raw_img_ants)"
   ]
  },
  {
   "cell_type": "code",
   "execution_count": null,
   "metadata": {},
   "outputs": [],
   "source": [
    "# LPI = Left-to-right, Posterior-to-anterior, Inferior-to-superior\n",
    "print(raw_img_ants.get_orientation())"
   ]
  },
  {
   "cell_type": "code",
   "execution_count": null,
   "metadata": {},
   "outputs": [],
   "source": [
    "arr = raw_img_ants.numpy()\n",
    "print(raw_img_ants.get_orientation())\n",
    "print(arr.shape, '-> (Z,Y,X)')"
   ]
  },
  {
   "cell_type": "code",
   "execution_count": null,
   "metadata": {},
   "outputs": [],
   "source": [
    "# LPI = Left-to-right, Posterior-to-anterior, Inferior-to-superior\n",
    "arr = raw_img_ants.numpy()\n",
    "print(raw_img_ants.get_orientation())\n",
    "print(arr.shape, '-> (Z,Y,X)')\n",
    "explore_3D_array(arr=raw_img_ants.numpy()) "
   ]
  },
  {
   "cell_type": "code",
   "execution_count": null,
   "metadata": {},
   "outputs": [],
   "source": [
    "# Pixel arrangement\n",
    "# Z, Y, X = (↑,↓,→)"
   ]
  },
  {
   "cell_type": "code",
   "execution_count": null,
   "metadata": {},
   "outputs": [],
   "source": [
    "# LPI = Left-to-right, Posterior-to-anterior, Inferior-to-superior\n",
    "# IAL = Inferior-to-superior, Anterior-to-posterior, Left-to-right\n",
    "raw_img_ants = ants.image_read(raw_img_path, reorient='IAL') \n",
    "\n",
    "print(raw_img_ants.get_orientation())\n",
    "print(arr.shape, '-> (Z,Y,X)')\n",
    "explore_3D_array(arr=raw_img_ants.numpy()) "
   ]
  },
  {
   "cell_type": "markdown",
   "metadata": {},
   "source": [
    "### Simple ITK"
   ]
  },
  {
   "cell_type": "code",
   "execution_count": null,
   "metadata": {},
   "outputs": [],
   "source": [
    "raw_img_path = os.path.join(BASE_DIR, 'assets', 'raw_examples', raw_examples[0])\n",
    "raw_img_sitk = sitk.ReadImage(raw_img_path, sitk.sitkFloat32)"
   ]
  },
  {
   "cell_type": "code",
   "execution_count": null,
   "metadata": {},
   "outputs": [],
   "source": [
    "raw_img_sitk_arr = sitk.GetArrayFromImage(raw_img_sitk)\n",
    "print(raw_img_sitk_arr.shape)\n",
    "explore_3D_array(raw_img_sitk_arr)"
   ]
  },
  {
   "cell_type": "markdown",
   "metadata": {},
   "source": [
    "For AntsPy:\n",
    "- Internal axis are (Z,Y,X). It means, when we get numpy array dimensions are (Z,Y,X)\n",
    "- When we define orientation, orientation string is according to internal axis.\n",
    "\n",
    "For SimpleITK:\n",
    "- Internal axis are (X,Y,Z). It means, when we get numpy array dimensions are (Z,Y,X) i.e. shifted.\n",
    "- When we define orientation, orientation string is according to internal axis. \n",
    "- The orientation string is set with the latest letter, e.g. : \n",
    "    - \"RPS\" = (left-to-Right, anterior-to-Posterior, inferior-to-Superior)\n",
    "    - \"PSR\" = (anterior-to-Posterior, inferior-to-Superior, left-to-Right)"
   ]
  },
  {
   "cell_type": "code",
   "execution_count": null,
   "metadata": {},
   "outputs": [],
   "source": [
    "raw_img_sitk = sitk.ReadImage(raw_img_path, sitk.sitkFloat32)\n",
    "raw_img_sitk = sitk.DICOMOrient(raw_img_sitk,'RPS')\n",
    "\n",
    "raw_img_sitk_arr = sitk.GetArrayFromImage(raw_img_sitk)\n",
    "print(raw_img_sitk_arr.shape)\n",
    "explore_3D_array(raw_img_sitk_arr)"
   ]
  },
  {
   "cell_type": "code",
   "execution_count": null,
   "metadata": {},
   "outputs": [],
   "source": [
    "# Internal Pixel arrangement for SimpleItk\n",
    "# (X, Y, Z) = (→, ↓, ↑)"
   ]
  }
 ],
 "metadata": {
  "interpreter": {
   "hash": "418825faa255fc22419b3421ba9be6bb08852f7738a4e2e9757a921549f74527"
  },
  "kernelspec": {
   "display_name": "Python 3.7.1 ('.venv': venv)",
   "language": "python",
   "name": "python3"
  },
  "language_info": {
   "codemirror_mode": {
    "name": "ipython",
    "version": 3
   },
   "file_extension": ".py",
   "mimetype": "text/x-python",
   "name": "python",
   "nbconvert_exporter": "python",
   "pygments_lexer": "ipython3",
   "version": "3.7.1"
  },
  "orig_nbformat": 4
 },
 "nbformat": 4,
 "nbformat_minor": 2
}
