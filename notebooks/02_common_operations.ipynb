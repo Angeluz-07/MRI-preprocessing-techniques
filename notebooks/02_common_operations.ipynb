{
 "cells": [
  {
   "cell_type": "markdown",
   "metadata": {},
   "source": [
    "### Common operations"
   ]
  },
  {
   "cell_type": "markdown",
   "metadata": {},
   "source": [
    "**Learning outcomes:**\n",
    "- Learn how to apply basic filters and transformations using AntsPy and SITK:\n",
    "    - Denoise\n",
    "    - Morphological operations\n",
    "    - Shrink\n",
    "    - Cropping\n",
    "    - Padding\n",
    "    - Blurring\n",
    "    - Thresholding\n",
    "    - Statistics"
   ]
  },
  {
   "cell_type": "code",
   "execution_count": null,
   "metadata": {},
   "outputs": [],
   "source": [
    "%matplotlib inline\n",
    "\n",
    "import os\n",
    "from helpers import *\n",
    "\n",
    "import ants\n",
    "import SimpleITK as sitk\n",
    "\n",
    "print(f'AntsPy version = {ants.__version__}')\n",
    "print(f'SimpleITK version = {sitk.__version__}')"
   ]
  },
  {
   "cell_type": "code",
   "execution_count": null,
   "metadata": {},
   "outputs": [],
   "source": [
    "BASE_DIR = os.path.dirname(os.path.dirname(os.path.abspath(\"__file__\")))\n",
    "print(f'project folder = {BASE_DIR}')"
   ]
  },
  {
   "cell_type": "code",
   "execution_count": null,
   "metadata": {},
   "outputs": [],
   "source": [
    "raw_examples = [\n",
    "    'fsl-open-dev_sub-001_T1w.nii.gz',\n",
    "    'wash-120_sub-001_T1w.nii.gz',\n",
    "    'kf-panda_sub-01_ses-3T_T1w.nii.gz',\n",
    "    'listen-task_sub-UTS01_ses-1_T1w.nii.gz'\n",
    "]"
   ]
  },
  {
   "cell_type": "markdown",
   "metadata": {},
   "source": [
    "### AntsPy"
   ]
  },
  {
   "cell_type": "markdown",
   "metadata": {},
   "source": [
    "#### Raw Image"
   ]
  },
  {
   "cell_type": "code",
   "execution_count": null,
   "metadata": {},
   "outputs": [],
   "source": [
    "raw_img_path = os.path.join(BASE_DIR, 'assets', 'raw_examples', raw_examples[0])\n",
    "raw_img_ants = ants.image_read(raw_img_path, reorient='IAL') \n",
    "\n",
    "print(f'shape = {raw_img_ants.numpy().shape} -> (Z, X, Y)')\n",
    "\n",
    "explore_3D_array(\n",
    "    arr=raw_img_ants.numpy(),\n",
    "    cmap='viridis'\n",
    ")"
   ]
  },
  {
   "cell_type": "markdown",
   "metadata": {},
   "source": [
    "#### Denoise"
   ]
  },
  {
   "cell_type": "code",
   "execution_count": null,
   "metadata": {},
   "outputs": [],
   "source": [
    "transformed = ants.denoise_image(raw_img_ants, shrink_factor=8)\n",
    "\n",
    "explore_3D_array_comparison(\n",
    "    arr_before=raw_img_ants.numpy(),\n",
    "    arr_after=transformed.numpy(),\n",
    "    cmap='viridis'\n",
    ")"
   ]
  },
  {
   "cell_type": "markdown",
   "metadata": {},
   "source": [
    "#### Morphological operations"
   ]
  },
  {
   "cell_type": "code",
   "execution_count": null,
   "metadata": {},
   "outputs": [],
   "source": [
    "\"\"\"\n",
    "operation to apply\n",
    "    \"close\" Morphological closing\n",
    "    \"dilate\" Morphological dilation\n",
    "    \"erode\" Morphological erosion\n",
    "    \"open\" Morphological opening\n",
    "\"\"\"\n",
    "\n",
    "transformed = ants.morphology(raw_img_ants, radius=1, operation='erode', mtype='grayscale')\n",
    "\n",
    "explore_3D_array_comparison(\n",
    "    arr_before=raw_img_ants.numpy(),\n",
    "    arr_after=transformed.numpy(),\n",
    "    cmap='viridis'\n",
    ")"
   ]
  },
  {
   "cell_type": "markdown",
   "metadata": {},
   "source": [
    "### Simple ITK"
   ]
  },
  {
   "cell_type": "markdown",
   "metadata": {},
   "source": [
    "#### Raw Image"
   ]
  },
  {
   "cell_type": "code",
   "execution_count": null,
   "metadata": {},
   "outputs": [],
   "source": [
    "raw_img_path = os.path.join(BASE_DIR, 'assets', 'raw_examples', raw_examples[0])\n",
    "raw_img_sitk = sitk.ReadImage(raw_img_path, sitk.sitkFloat32)\n",
    "raw_img_sitk = sitk.DICOMOrient(raw_img_sitk,'RPS')\n",
    "\n",
    "print(f'shape = {sitk.GetArrayFromImage(raw_img_sitk).shape} -> (Z, X, Y)')\n",
    "explore_3D_array(\n",
    "    arr=sitk.GetArrayFromImage(raw_img_sitk),\n",
    "    cmap='viridis'\n",
    ")"
   ]
  },
  {
   "cell_type": "markdown",
   "metadata": {},
   "source": [
    "#### Shrink"
   ]
  },
  {
   "cell_type": "code",
   "execution_count": null,
   "metadata": {},
   "outputs": [],
   "source": [
    "shrinkFactor = 3\n",
    "transformed = sitk.Shrink( raw_img_sitk, [ shrinkFactor ] * raw_img_sitk.GetDimension() )\n",
    "\n",
    "print(f'shape before = {sitk.GetArrayFromImage(raw_img_sitk).shape}')\n",
    "print(f'shape after = {sitk.GetArrayFromImage(transformed).shape}')\n",
    "\n",
    "explore_3D_array(sitk.GetArrayFromImage(transformed))"
   ]
  },
  {
   "cell_type": "markdown",
   "metadata": {},
   "source": [
    "#### Crop"
   ]
  },
  {
   "cell_type": "code",
   "execution_count": null,
   "metadata": {},
   "outputs": [],
   "source": [
    "# Cropping takes the orientation of the pixels for the reference of lower & upper boundaries vectors\n",
    "# Pixel orientation = RPS = (left-to-Right, anterior-to-Posterior, inferior-to-Superior)\n",
    "\n",
    "# crop nothing\n",
    "#transformed = sitk.Crop(raw_img_sitk)\n",
    "#transformed = sitk.Crop(raw_img_sitk, (0,0,0), (0,0,0))\n",
    "\n",
    "# crop 20 from left to right             X,Y,Z\n",
    "#transformed = sitk.Crop(raw_img_sitk, (20,0,0), (0,0,0))\n",
    "\n",
    "# crop 20 from left to right, crop 30 from anterior to posterior\n",
    "#transformed = sitk.Crop(raw_img_sitk, (20,30,0), (0,0,0))\n",
    "\n",
    "# crop 20 from left to right, crop 30 from anterior to posterior, \n",
    "# crop 10 from right to left, crop 5 from posterior to anterior. \n",
    "#transformed = sitk.Crop(raw_img_sitk, (20,30,0), (10,5,0)) \n",
    "\n",
    "# crop 40 from inferior to superior, crop 50 from superior to inferior\n",
    "transformed = sitk.Crop(raw_img_sitk, (0,0,40), (0,0,50)) \n",
    "\n",
    "\n",
    "print(f'shape before = {sitk.GetArrayFromImage(raw_img_sitk).shape}')\n",
    "print(f'shape after = {sitk.GetArrayFromImage(transformed).shape}')\n",
    "\n",
    "explore_3D_array(sitk.GetArrayFromImage(transformed))"
   ]
  },
  {
   "cell_type": "markdown",
   "metadata": {},
   "source": [
    "#### Padding"
   ]
  },
  {
   "cell_type": "code",
   "execution_count": null,
   "metadata": {},
   "outputs": [],
   "source": [
    "constant = int(sitk.GetArrayFromImage(raw_img_sitk).min())\n",
    "constant"
   ]
  },
  {
   "cell_type": "code",
   "execution_count": null,
   "metadata": {},
   "outputs": [],
   "source": [
    "# Padding (as Cropping) takes the orientation of the pixels for the reference of lower & upper boundaries vectors\n",
    "# Pixel orientation = RPS = (left-to-Right, anterior-to-Posterior, inferior-to-Superior)\n",
    "\n",
    "# pad nothing\n",
    "#transformed = sitk.ConstantPad(raw_img_sitk)\n",
    "#transformed = sitk.ConstantPad(raw_img_sitk,(0,0,0),(0,0,0), constant)\n",
    "\n",
    "# pad 10 from left to right\n",
    "#transformed = sitk.ConstantPad(raw_img_sitk,(10,0,0),(0,0,0),constant)\n",
    "\n",
    "# pad 10 from left to right, pad 15 from anterior to posterior\n",
    "#transformed = sitk.ConstantPad(raw_img_sitk,(10,15,0),(0,0,0),constant)\n",
    "\n",
    "# pad 10 from left to right, pad 15 from anterior to posterior, \n",
    "# pad 5 from right to left, pad 8 from posterior to anterior. \n",
    "transformed = sitk.ConstantPad(raw_img_sitk,(10,15,0),(5,8,0),constant)\n",
    "\n",
    "\n",
    "print(f'shape before = {sitk.GetArrayFromImage(raw_img_sitk).shape}')\n",
    "print(f'shape after = {sitk.GetArrayFromImage(transformed).shape}')\n",
    "\n",
    "explore_3D_array(sitk.GetArrayFromImage(transformed), cmap='viridis')"
   ]
  },
  {
   "cell_type": "markdown",
   "metadata": {},
   "source": [
    "#### Denoise"
   ]
  },
  {
   "cell_type": "markdown",
   "metadata": {},
   "source": [
    "Curvature Flow filter"
   ]
  },
  {
   "cell_type": "code",
   "execution_count": null,
   "metadata": {},
   "outputs": [],
   "source": [
    "transformed = sitk.CurvatureFlow(raw_img_sitk)\n",
    "\n",
    "explore_3D_array_comparison(\n",
    "    arr_before=sitk.GetArrayFromImage(raw_img_sitk),\n",
    "    arr_after=sitk.GetArrayFromImage(transformed),\n",
    "    cmap='viridis'\n",
    ")"
   ]
  },
  {
   "cell_type": "markdown",
   "metadata": {},
   "source": [
    "#### Morphological Operations"
   ]
  },
  {
   "cell_type": "code",
   "execution_count": null,
   "metadata": {},
   "outputs": [],
   "source": [
    "\"\"\"\n",
    "sitk.GrayscaleMorphologicalClosing\n",
    "sitk.GrayscaleDilate\n",
    "sitk.GrayscaleErode\n",
    "sitk.GrayscaleMorphologicalOpening\n",
    "\n",
    "sitk.BinaryMorphologicalClosing\n",
    "sitk.BinaryDilate\n",
    "sitk.BinaryErode\n",
    "sitk.BinaryMorphologicalOpening\n",
    "\"\"\"\n",
    "\n",
    "transformed = sitk.GrayscaleErode(raw_img_sitk)\n",
    "\n",
    "explore_3D_array_comparison(\n",
    "    arr_before=sitk.GetArrayFromImage(raw_img_sitk),\n",
    "    arr_after=sitk.GetArrayFromImage(transformed),\n",
    "    cmap='viridis'\n",
    ")"
   ]
  },
  {
   "cell_type": "markdown",
   "metadata": {},
   "source": [
    "#### Blurring"
   ]
  },
  {
   "cell_type": "code",
   "execution_count": null,
   "metadata": {},
   "outputs": [],
   "source": [
    "transformed = sitk.DiscreteGaussian(raw_img_sitk)\n",
    "\n",
    "explore_3D_array_comparison(\n",
    "    arr_before=sitk.GetArrayFromImage(raw_img_sitk),\n",
    "    arr_after=sitk.GetArrayFromImage(transformed),\n",
    "    cmap='viridis'\n",
    ")"
   ]
  },
  {
   "cell_type": "markdown",
   "metadata": {},
   "source": [
    "#### Thresholding"
   ]
  },
  {
   "cell_type": "code",
   "execution_count": null,
   "metadata": {},
   "outputs": [],
   "source": [
    "\"\"\"\n",
    "sitk.OtsuThreshold\n",
    "sitk.LiThreshold\n",
    "sitk.TriangleThreshold\n",
    "sitk.MomentsThreshold\n",
    "\"\"\"\n",
    "\n",
    "transformed = sitk.TriangleThreshold(raw_img_sitk, 0, 1)\n",
    "\n",
    "explore_3D_array_comparison(\n",
    "    arr_before=sitk.GetArrayFromImage(raw_img_sitk),\n",
    "    arr_after=sitk.GetArrayFromImage(transformed)\n",
    ")"
   ]
  },
  {
   "cell_type": "markdown",
   "metadata": {},
   "source": [
    "#### Statistics"
   ]
  },
  {
   "cell_type": "code",
   "execution_count": null,
   "metadata": {},
   "outputs": [],
   "source": [
    "stats = sitk.StatisticsImageFilter()\n",
    "stats.Execute(raw_img_sitk)\n",
    "\n",
    "\n",
    "print('\\tRaw img')\n",
    "print(\"min  =\", stats.GetMinimum())\n",
    "print(\"max  =\", stats.GetMaximum())\n",
    "print(\"mean =\", stats.GetMean())\n"
   ]
  }
 ],
 "metadata": {
  "interpreter": {
   "hash": "418825faa255fc22419b3421ba9be6bb08852f7738a4e2e9757a921549f74527"
  },
  "kernelspec": {
   "display_name": "Python 3.7.1 ('.venv': venv)",
   "language": "python",
   "name": "python3"
  },
  "language_info": {
   "codemirror_mode": {
    "name": "ipython",
    "version": 3
   },
   "file_extension": ".py",
   "mimetype": "text/x-python",
   "name": "python",
   "nbconvert_exporter": "python",
   "pygments_lexer": "ipython3",
   "version": "3.7.1"
  },
  "orig_nbformat": 4
 },
 "nbformat": 4,
 "nbformat_minor": 2
}
